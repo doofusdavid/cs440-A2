{
 "cells": [
  {
   "cell_type": "markdown",
   "metadata": {},
   "source": [
    "# Assignment 2: Iterative-Deepening Search"
   ]
  },
  {
   "cell_type": "markdown",
   "metadata": {},
   "source": [
    "*Type your name here.*"
   ]
  },
  {
   "cell_type": "markdown",
   "metadata": {},
   "source": [
    "## Overview"
   ]
  },
  {
   "cell_type": "markdown",
   "metadata": {},
   "source": [
    "Implement the iterative-deepening search algorithm as discussed in our Week 2 lecture notes and as shown in figures 3.17 and 3.18 in our text book. Apply it to the 8-puzzle and a second puzzle of your choice. "
   ]
  },
  {
   "cell_type": "markdown",
   "metadata": {},
   "source": [
    "## Required Code"
   ]
  },
  {
   "cell_type": "markdown",
   "metadata": {},
   "source": [
    "In this jupyter notebook, implement the following functions:\n",
    "\n",
    "  * `iterativeDeepeningSearch(startState, goalState, actionsF, takeActionF, maxDepth)`\n",
    "  * `depthLimitedSearch(startState, goalState, actionsF, takeActionF, depthLimit)`\n",
    "  \n",
    "`depthLimitedSearch` is called by `iterativeDeepeningSearch` with `depthLimit`s of $0, 1, \\ldots, $ `maxDepth`. Both must return either the solution path as a list of states, or the strings `cutoff` or `failure`.  `failure` signifies that all states were searched and the goal was not found. \n",
    "\n",
    "Each receives the arguments\n",
    "\n",
    "  * the starting state, \n",
    "  * the goal state,\n",
    "  * a function `actionsF` that is given a state and returns a list of valid actions from that state,\n",
    "  * a function `takeActionF` that is given a state and an action and returns the new state that results from applying the action to the state,\n",
    "  * either a `depthLimit` for `depthLimitedSearch`, or `maxDepth` for `iterativeDeepeningSearch`."
   ]
  },
  {
   "cell_type": "markdown",
   "metadata": {},
   "source": [
    "Use your solution to solve the 8-puzzle.\n",
    "Implement the state of the puzzle as a list of integers. 0 represents the empty position. \n",
    "\n",
    "Required functions for the 8-puzzle are the following.\n",
    "\n",
    "  * `findBlank_8p(state)`: return the row and column index for the location of the blank (the 0 value).\n",
    "  * `actionsF_8p(state)`: returns a list of up to four valid actions that can be applied in `state`. Return them in the order `left`, `right`, `up`, `down`, though only if each one is a valid action.\n",
    "  * `takeActionF_8p(state, action)`: return the state that results from applying `action` in `state`.\n",
    "  * `printPath_8p(startState, goalState, path)`: print a solution path in a readable form.  You choose the format."
   ]
  },
  {
   "cell_type": "markdown",
   "metadata": {},
   "source": [
    "<font color='red'>Also</font>, implement a second search problem of your choice.  Apply your `iterativeDeepeningSearch` function to it."
   ]
  },
  {
   "cell_type": "markdown",
   "metadata": {},
   "source": [
    "Insert your function definitions in this notebook."
   ]
  },
  {
   "cell_type": "code",
   "execution_count": 16,
   "metadata": {
    "collapsed": true
   },
   "outputs": [],
   "source": [
    "import math\n",
    "import numpy\n",
    "\n",
    "def squarable(state):\n",
    "    sqrt = math.sqrt(len(state))\n",
    "\n",
    "    if sqrt % 1 != 0:\n",
    "        print( \"Not a Squareable List\")\n",
    "        return False\n",
    "    else:\n",
    "        return True\n",
    "\n",
    "\n",
    "def printState_8p(state):\n",
    "    '''\n",
    "    Displays the current state of a list by squaring it, and displaying it nicely.\n",
    "    :param state: list of numbers\n",
    "    :return: displays list as a square\n",
    "    '''\n",
    "    if type(state) is not list:\n",
    "        print(\"Not a valid list\")\n",
    "    \n",
    "    # Substitute '' for 0, to make the puzzle look better\n",
    "    display = [x if x !=0 else '' for x in state]\n",
    "    sqrt = squareOfState(state)\n",
    "\n",
    "    # Iterate through the list, display tab-delimited\n",
    "    for x in range(sqrt):\n",
    "        print(*display[( x *sqrt):( x *sqrt) + sqrt], sep='\\t')\n",
    "\n",
    "\n",
    "def findBlank_8p(state):\n",
    "\n",
    "    index = state.index(0)\n",
    "    sqrt = squareOfState(state)\n",
    "\n",
    "    position =  index % sqrt, int(index / sqrt)\n",
    "    return position\n",
    "\n",
    "def actionsF_8p(state):\n",
    "\n",
    "    position = findBlank_8p(state)\n",
    "    sqrt = int(math.sqrt(len(state)))\n",
    "\n",
    "    if position[0] != 0 : yield \"left\"\n",
    "    if position[0] != sqrt- 1: yield \"right\"\n",
    "    if position[1] != 0: yield \"up\"\n",
    "    if position[1] != sqrt - 1: yield \"down\"\n",
    "\n",
    "\n",
    "def squareOfState(state):\n",
    "    if not squarable(state):\n",
    "        return \"State not squarable\"\n",
    "\n",
    "    return int(math.sqrt(len(state)))\n",
    "\n",
    "\n",
    "def goalTest(state, testState):\n",
    "    return state == testState\n",
    "\n",
    "\n",
    "def legalAction(arrState, action, position, sqrt):\n",
    "    if action == \"left\" and position[0] == 0:\n",
    "        return False\n",
    "    if action == \"right\" and position[0] == sqrt - 1:\n",
    "        return False\n",
    "    if action == \"up\" and position[1] == 0:\n",
    "        return False\n",
    "    if action == \"down\" and position[1] == sqrt - 1:\n",
    "        return False\n",
    "\n",
    "    return True\n",
    "\n",
    "\n",
    "def takeActionF_8p(state, action):\n",
    "    position = findBlank_8p(state)\n",
    "    sqrt = squareOfState(state)\n",
    "\n",
    "    arrState = numpy.reshape(state, (sqrt, sqrt))\n",
    "    if not legalAction(arrState, action, position, sqrt):\n",
    "        return \"Could not move that direction\"\n",
    "\n",
    "    if action == \"left\": return swap(arrState, position, (position[0] - 1, position[1]))\n",
    "    if action == \"right\": return swap(arrState, position, (position[0] + 1, position[1]))\n",
    "    if action == \"up\": return swap(arrState, position, (position[0], position[1] - 1))\n",
    "    if action == \"down\": return swap(arrState, position, (position[0], position[1] + 1))\n",
    "\n",
    "\n",
    "def swap(state, location1, location2):\n",
    "    state[location1[1]][location1[0]], state[location2[1]][location2[0]] = state[location2[1]][location2[0]], \\\n",
    "                                                                           state[location1[1]][location1[0]]\n",
    "    return list(state.flat)\n",
    "\n",
    "def depthLimitedSearch(startState, actionsF, takeActionF, goalState, depthLimit):\n",
    "    if goalState == startState:\n",
    "        return []\n",
    "\n",
    "    if depthLimit == 0:\n",
    "        return 'cutoff'\n",
    "    else:\n",
    "        cutoffOccurred = False\n",
    "\n",
    "    for action in actionsF(startState):\n",
    "        #print(\"Action: \" + action)\n",
    "        childState = takeActionF(startState, action)\n",
    "        #printState(childState)\n",
    "\n",
    "        result = depthLimitedSearch(childState, actionsF, takeActionF, goalState, depthLimit-1)\n",
    "\n",
    "        if result is 'cutoff':\n",
    "            cutoffOccurred = True\n",
    "        elif result is not 'failure':\n",
    "            result.append(childState)\n",
    "            return result\n",
    "\n",
    "    if cutoffOccurred:\n",
    "        return 'cutoff'\n",
    "    else:\n",
    "        return 'failure'\n",
    "\n",
    "\n",
    "def iterativeDeepeningSearch(startState, goalState, actionsF, takeActionF, maxDepth):\n",
    "\n",
    "    solutionPath = []\n",
    "    solutionPath.append(startState)\n",
    "    if set(startState) != set(goalState):\n",
    "        #if set(startState) != set(goalState) or not solvablePuzzle(startState):\n",
    "        return \"No solution possible\"\n",
    "\n",
    "    for depth in range(maxDepth):\n",
    "        print(\"depth: \" + str(depth))\n",
    "        result = depthLimitedSearch(startState, actionsF, takeActionF, goalState, depth)\n",
    "\n",
    "        if result is 'failure':\n",
    "            return 'failure'\n",
    "        if result is not 'cutoff':\n",
    "            # for oneresult in result:\n",
    "            #     solutionPath.append(oneresult)\n",
    "            # return solutionPath\n",
    "            result.append(startState)\n",
    "            #result.sort(reverse=True)\n",
    "            return result\n",
    "\n",
    "    return 'cutoff'\n",
    "\n",
    "def countInversions(startState):\n",
    "    inversions = 0\n",
    "    for state in startState:\n",
    "        for predecessors in startState[startState.index(state):]:\n",
    "            if state > predecessors:\n",
    "                inversions += 1\n",
    "\n",
    "    return inversions\n",
    "\n",
    "\n",
    "def solvablePuzzle(startState):\n",
    "    if countInversions(startState) % 2 == 0:\n",
    "        return True\n",
    "    else:\n",
    "        return False\n",
    "\n",
    "\n",
    "def printPath_8p(solutionPath):\n",
    "    for result in solutionPath:\n",
    "        printState(result)\n",
    "        print()\n"
   ]
  },
  {
   "cell_type": "markdown",
   "metadata": {},
   "source": [
    "Here are some example results."
   ]
  },
  {
   "cell_type": "code",
   "execution_count": 5,
   "metadata": {
    "collapsed": true
   },
   "outputs": [],
   "source": [
    "startState = [1, 0, 3, 4, 2, 5, 6, 7, 8]"
   ]
  },
  {
   "cell_type": "code",
   "execution_count": 6,
   "metadata": {},
   "outputs": [
    {
     "name": "stdout",
     "output_type": "stream",
     "text": [
      "1\t\t3\n",
      "4\t2\t5\n",
      "6\t7\t8\n"
     ]
    }
   ],
   "source": [
    "printState_8p(startState)  # not a required function for this assignment, but it helps when implementing printPath_8p"
   ]
  },
  {
   "cell_type": "code",
   "execution_count": 7,
   "metadata": {},
   "outputs": [
    {
     "data": {
      "text/plain": [
       "(1, 0)"
      ]
     },
     "execution_count": 7,
     "metadata": {},
     "output_type": "execute_result"
    }
   ],
   "source": [
    "findBlank_8p(startState)"
   ]
  },
  {
   "cell_type": "code",
   "execution_count": 8,
   "metadata": {},
   "outputs": [
    {
     "data": {
      "text/plain": [
       "<generator object actionsF_8p at 0x10c563f68>"
      ]
     },
     "execution_count": 8,
     "metadata": {},
     "output_type": "execute_result"
    }
   ],
   "source": [
    "actionsF_8p(startState)"
   ]
  },
  {
   "cell_type": "code",
   "execution_count": 9,
   "metadata": {},
   "outputs": [
    {
     "data": {
      "text/plain": [
       "[1, 2, 3, 4, 0, 5, 6, 7, 8]"
      ]
     },
     "execution_count": 9,
     "metadata": {},
     "output_type": "execute_result"
    }
   ],
   "source": [
    "takeActionF_8p(startState, 'down')"
   ]
  },
  {
   "cell_type": "code",
   "execution_count": 10,
   "metadata": {},
   "outputs": [
    {
     "name": "stdout",
     "output_type": "stream",
     "text": [
      "1\t2\t3\n",
      "4\t\t5\n",
      "6\t7\t8\n"
     ]
    }
   ],
   "source": [
    "printState_8p(takeActionF_8p(startState, 'down'))"
   ]
  },
  {
   "cell_type": "code",
   "execution_count": 11,
   "metadata": {
    "collapsed": true
   },
   "outputs": [],
   "source": [
    "goalState = takeActionF_8p(startState, 'down')"
   ]
  },
  {
   "cell_type": "code",
   "execution_count": 12,
   "metadata": {
    "collapsed": true
   },
   "outputs": [],
   "source": [
    "newState = takeActionF_8p(startState, 'down')"
   ]
  },
  {
   "cell_type": "code",
   "execution_count": 13,
   "metadata": {},
   "outputs": [
    {
     "data": {
      "text/plain": [
       "True"
      ]
     },
     "execution_count": 13,
     "metadata": {},
     "output_type": "execute_result"
    }
   ],
   "source": [
    "newState == goalState"
   ]
  },
  {
   "cell_type": "code",
   "execution_count": 17,
   "metadata": {},
   "outputs": [
    {
     "data": {
      "text/plain": [
       "[1, 0, 3, 4, 2, 5, 6, 7, 8]"
      ]
     },
     "execution_count": 17,
     "metadata": {},
     "output_type": "execute_result"
    }
   ],
   "source": [
    "startState"
   ]
  },
  {
   "cell_type": "code",
   "execution_count": 18,
   "metadata": {
    "scrolled": true
   },
   "outputs": [
    {
     "ename": "TypeError",
     "evalue": "actionsF_8p() takes 1 positional argument but 2 were given",
     "output_type": "error",
     "traceback": [
      "\u001b[0;31m---------------------------------------------------------------------------\u001b[0m",
      "\u001b[0;31mTypeError\u001b[0m                                 Traceback (most recent call last)",
      "\u001b[0;32m<ipython-input-18-fa15055c995d>\u001b[0m in \u001b[0;36m<module>\u001b[0;34m()\u001b[0m\n\u001b[0;32m----> 1\u001b[0;31m \u001b[0mpath\u001b[0m \u001b[0;34m=\u001b[0m \u001b[0mdepthLimitedSearch\u001b[0m\u001b[0;34m(\u001b[0m\u001b[0mstartState\u001b[0m\u001b[0;34m,\u001b[0m \u001b[0mgoalState\u001b[0m\u001b[0;34m,\u001b[0m \u001b[0mactionsF_8p\u001b[0m\u001b[0;34m,\u001b[0m \u001b[0mtakeActionF_8p\u001b[0m\u001b[0;34m,\u001b[0m \u001b[0;36m3\u001b[0m\u001b[0;34m)\u001b[0m\u001b[0;34m\u001b[0m\u001b[0m\n\u001b[0m\u001b[1;32m      2\u001b[0m \u001b[0mpath\u001b[0m\u001b[0;34m\u001b[0m\u001b[0m\n",
      "\u001b[0;32m<ipython-input-16-3d2a71c608a2>\u001b[0m in \u001b[0;36mdepthLimitedSearch\u001b[0;34m(startState, actionsF, takeActionF, goalState, depthLimit)\u001b[0m\n\u001b[1;32m    102\u001b[0m     \u001b[0;32mfor\u001b[0m \u001b[0maction\u001b[0m \u001b[0;32min\u001b[0m \u001b[0mactionsF_8p\u001b[0m\u001b[0;34m(\u001b[0m\u001b[0mstartState\u001b[0m\u001b[0;34m)\u001b[0m\u001b[0;34m:\u001b[0m\u001b[0;34m\u001b[0m\u001b[0m\n\u001b[1;32m    103\u001b[0m         \u001b[0;31m#print(\"Action: \" + action)\u001b[0m\u001b[0;34m\u001b[0m\u001b[0;34m\u001b[0m\u001b[0m\n\u001b[0;32m--> 104\u001b[0;31m         \u001b[0mchildState\u001b[0m \u001b[0;34m=\u001b[0m \u001b[0mtakeActionF\u001b[0m\u001b[0;34m(\u001b[0m\u001b[0mstartState\u001b[0m\u001b[0;34m,\u001b[0m \u001b[0maction\u001b[0m\u001b[0;34m)\u001b[0m\u001b[0;34m\u001b[0m\u001b[0m\n\u001b[0m\u001b[1;32m    105\u001b[0m         \u001b[0;31m#printState(childState)\u001b[0m\u001b[0;34m\u001b[0m\u001b[0;34m\u001b[0m\u001b[0m\n\u001b[1;32m    106\u001b[0m \u001b[0;34m\u001b[0m\u001b[0m\n",
      "\u001b[0;31mTypeError\u001b[0m: actionsF_8p() takes 1 positional argument but 2 were given"
     ]
    }
   ],
   "source": [
    "path = depthLimitedSearch(startState, goalState, actionsF_8p, takeActionF_8p, 3)\n",
    "path"
   ]
  },
  {
   "cell_type": "markdown",
   "metadata": {},
   "source": [
    "Notice that `depthLimitedSearch` result is missing the start state.  This is inserted by `iterativeDeepeningSearch`.\n",
    "\n",
    "But, when we try `iterativeDeepeningSearch` to do the same search, it finds a shorter path!"
   ]
  },
  {
   "cell_type": "code",
   "execution_count": 15,
   "metadata": {
    "scrolled": true
   },
   "outputs": [
    {
     "data": {
      "text/plain": [
       "[[1, 0, 3, 4, 2, 5, 6, 7, 8], [1, 2, 3, 4, 0, 5, 6, 7, 8]]"
      ]
     },
     "execution_count": 15,
     "metadata": {},
     "output_type": "execute_result"
    }
   ],
   "source": [
    "path = iterativeDeepeningSearch(startState, goalState, actionsF_8p, takeActionF_8p, 3)\n",
    "path"
   ]
  },
  {
   "cell_type": "markdown",
   "metadata": {},
   "source": [
    "Also notice that the successor states are lists, not tuples.  This is okay, because the search functions for this assignment do not"
   ]
  },
  {
   "cell_type": "code",
   "execution_count": 16,
   "metadata": {},
   "outputs": [
    {
     "data": {
      "text/plain": [
       "'cutoff'"
      ]
     },
     "execution_count": 16,
     "metadata": {},
     "output_type": "execute_result"
    }
   ],
   "source": [
    "startState = [4, 7, 2, 1, 6, 5, 0, 3, 8]\n",
    "path = iterativeDeepeningSearch(startState, goalState, actionsF_8p, takeActionF_8p, 3)\n",
    "path"
   ]
  },
  {
   "cell_type": "code",
   "execution_count": 17,
   "metadata": {},
   "outputs": [
    {
     "data": {
      "text/plain": [
       "'cutoff'"
      ]
     },
     "execution_count": 17,
     "metadata": {},
     "output_type": "execute_result"
    }
   ],
   "source": [
    "startState = [4, 7, 2, 1, 6, 5, 0, 3, 8]\n",
    "path = iterativeDeepeningSearch(startState, goalState, actionsF_8p, takeActionF_8p, 5)\n",
    "path"
   ]
  },
  {
   "cell_type": "markdown",
   "metadata": {},
   "source": [
    "Humm...maybe we can't reach the goal state from this state.  We need a way to randomly generate a valid start state."
   ]
  },
  {
   "cell_type": "code",
   "execution_count": 18,
   "metadata": {
    "collapsed": true
   },
   "outputs": [],
   "source": [
    "import random"
   ]
  },
  {
   "cell_type": "code",
   "execution_count": 19,
   "metadata": {},
   "outputs": [
    {
     "data": {
      "text/plain": [
       "'left'"
      ]
     },
     "execution_count": 19,
     "metadata": {},
     "output_type": "execute_result"
    }
   ],
   "source": [
    "random.choice(['left', 'right'])"
   ]
  },
  {
   "cell_type": "code",
   "execution_count": 20,
   "metadata": {
    "collapsed": true
   },
   "outputs": [],
   "source": [
    "def randomStartState(goalState, actionsF, takeActionF, nSteps):\n",
    "    state = goalState\n",
    "    for i in range(nSteps):\n",
    "        state = takeActionF(state, random.choice(actionsF(state)))\n",
    "    return state"
   ]
  },
  {
   "cell_type": "code",
   "execution_count": 21,
   "metadata": {},
   "outputs": [
    {
     "data": {
      "text/plain": [
       "[1, 5, 0, 4, 7, 2, 6, 8, 3]"
      ]
     },
     "execution_count": 21,
     "metadata": {},
     "output_type": "execute_result"
    }
   ],
   "source": [
    "startState = randomStartState(goalState, actionsF_8p, takeActionF_8p, 10)\n",
    "startState"
   ]
  },
  {
   "cell_type": "code",
   "execution_count": 22,
   "metadata": {},
   "outputs": [
    {
     "data": {
      "text/plain": [
       "[[1, 5, 0, 4, 7, 2, 6, 8, 3],\n",
       " [1, 5, 2, 4, 7, 0, 6, 8, 3],\n",
       " [1, 5, 2, 4, 7, 3, 6, 8, 0],\n",
       " [1, 5, 2, 4, 7, 3, 6, 0, 8],\n",
       " [1, 5, 2, 4, 0, 3, 6, 7, 8],\n",
       " [1, 0, 2, 4, 5, 3, 6, 7, 8],\n",
       " [1, 2, 0, 4, 5, 3, 6, 7, 8],\n",
       " [1, 2, 3, 4, 5, 0, 6, 7, 8],\n",
       " [1, 2, 3, 4, 0, 5, 6, 7, 8]]"
      ]
     },
     "execution_count": 22,
     "metadata": {},
     "output_type": "execute_result"
    }
   ],
   "source": [
    "path = iterativeDeepeningSearch(startState, goalState, actionsF_8p, takeActionF_8p, 20)\n",
    "path"
   ]
  },
  {
   "cell_type": "markdown",
   "metadata": {},
   "source": [
    "Let's print out the state sequence in a readable form."
   ]
  },
  {
   "cell_type": "code",
   "execution_count": 23,
   "metadata": {},
   "outputs": [
    {
     "name": "stdout",
     "output_type": "stream",
     "text": [
      "1 5  \n",
      "4 7 2\n",
      "6 8 3\n",
      "\n",
      "1 5 2\n",
      "4 7  \n",
      "6 8 3\n",
      "\n",
      "1 5 2\n",
      "4 7 3\n",
      "6 8  \n",
      "\n",
      "1 5 2\n",
      "4 7 3\n",
      "6   8\n",
      "\n",
      "1 5 2\n",
      "4   3\n",
      "6 7 8\n",
      "\n",
      "1   2\n",
      "4 5 3\n",
      "6 7 8\n",
      "\n",
      "1 2  \n",
      "4 5 3\n",
      "6 7 8\n",
      "\n",
      "1 2 3\n",
      "4 5  \n",
      "6 7 8\n",
      "\n",
      "1 2 3\n",
      "4   5\n",
      "6 7 8\n",
      "\n"
     ]
    }
   ],
   "source": [
    "for p in path:\n",
    "    printState_8p(p)\n",
    "    print()"
   ]
  },
  {
   "cell_type": "markdown",
   "metadata": {},
   "source": [
    "Here is one way to format the search problem and solution in a readable form."
   ]
  },
  {
   "cell_type": "code",
   "execution_count": 24,
   "metadata": {},
   "outputs": [
    {
     "name": "stdout",
     "output_type": "stream",
     "text": [
      "Path from\n",
      "1 5  \n",
      "4 7 2\n",
      "6 8 3\n",
      "  to\n",
      "1 2 3\n",
      "4   5\n",
      "6 7 8\n",
      "is 9 nodes long:\n",
      "1 5  \n",
      "4 7 2\n",
      "6 8 3\n",
      "\n",
      " 1 5 2\n",
      " 4 7  \n",
      " 6 8 3\n",
      "\n",
      "  1 5 2\n",
      "  4 7 3\n",
      "  6 8  \n",
      "\n",
      "   1 5 2\n",
      "   4 7 3\n",
      "   6   8\n",
      "\n",
      "    1 5 2\n",
      "    4   3\n",
      "    6 7 8\n",
      "\n",
      "     1   2\n",
      "     4 5 3\n",
      "     6 7 8\n",
      "\n",
      "      1 2  \n",
      "      4 5 3\n",
      "      6 7 8\n",
      "\n",
      "       1 2 3\n",
      "       4 5  \n",
      "       6 7 8\n",
      "\n",
      "        1 2 3\n",
      "        4   5\n",
      "        6 7 8\n",
      "\n"
     ]
    }
   ],
   "source": [
    "printPath_8p(startState, goalState, path)"
   ]
  },
  {
   "cell_type": "markdown",
   "metadata": {},
   "source": [
    "Download [A2grader.tar](A2grader.tar) and extract A2grader.py from it."
   ]
  },
  {
   "cell_type": "code",
   "execution_count": 26,
   "metadata": {},
   "outputs": [
    {
     "name": "stdout",
     "output_type": "stream",
     "text": [
      "\n",
      "Searching this graph:\n",
      " {'e': ['z'], 'a': ['b', 'z', 'd'], 'b': ['a'], 'y': ['z'], 'd': ['y']}\n",
      "\n",
      "Looking for path from a to y with max depth of 1.\n",
      " 5/ 5 points. Your search correctly returned cutoff\n",
      "\n",
      "Looking for path from a to y with max depth of 5.\n",
      "10/10 points. Your search correctly returned ['a', 'z']\n",
      "\n",
      "Testing findBlank_8p([1, 2, 3, 4, 5, 6, 7, 0, 8])\n",
      " 5/ 5 points. Your findBlank_8p correctly returned 2 1\n",
      "\n",
      "Testing actionsF_8p([1, 2, 3, 4, 5, 6, 7, 0, 8])\n",
      "10/10 points. Your actionsF_8p correctly returned ['left', 'right', 'up']\n",
      "\n",
      "Testing takeActionF_8p([1, 2, 3, 4, 5, 6, 7, 0, 8],up)\n",
      "10/10 points. Your takeActionsF_8p correctly returned [1, 2, 3, 4, 0, 6, 7, 5, 8]\n",
      "\n",
      "Testing iterativeDeepeningSearch([1, 2, 3, 4, 5, 6, 7, 0, 8],[0, 2, 3, 1, 4,  6, 7, 5, 8], actionsF_8p, takeActionF_8p, 5)\n",
      "20/20 points. Your search correctly returned [[1, 2, 3, 4, 5, 6, 7, 0, 8], [1, 2, 3, 4, 0, 6, 7, 5, 8], [1, 2, 3, 0, 4, 6, 7, 5, 8], [0, 2, 3, 1, 4, 6, 7, 5, 8]]\n",
      "\n",
      "Testing iterativeDeepeningSearch([5, 2, 8, 0, 1, 4, 3, 7, 6], [0, 2, 3, 1, 4,  6, 7, 5, 8], actionsF_8p, takeActionF_8p, 10)\n",
      "20/20 points. Your search correctly returned cutoff\n",
      "\n",
      "notebooks Grade is 80/80\n",
      "Up to 20 more points will be given based on the qualty of your descriptions of the method and the results.\n"
     ]
    }
   ],
   "source": [
    "%run -i A2grader.py"
   ]
  },
  {
   "cell_type": "code",
   "execution_count": null,
   "metadata": {
    "collapsed": true
   },
   "outputs": [],
   "source": []
  }
 ],
 "metadata": {
  "anaconda-cloud": {},
  "kernelspec": {
   "display_name": "Python 3",
   "language": "python",
   "name": "python3"
  },
  "language_info": {
   "codemirror_mode": {
    "name": "ipython",
    "version": 3
   },
   "file_extension": ".py",
   "mimetype": "text/x-python",
   "name": "python",
   "nbconvert_exporter": "python",
   "pygments_lexer": "ipython3",
   "version": "3.6.2"
  }
 },
 "nbformat": 4,
 "nbformat_minor": 1
}
